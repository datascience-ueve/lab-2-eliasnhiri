{
 "cells": [
  {
   "cell_type": "markdown",
   "metadata": {},
   "source": [
    "# TP Machine learning\n",
    "\n",
    "## Jeu de données Vowel"
   ]
  },
  {
   "cell_type": "code",
   "execution_count": 1,
   "metadata": {
    "collapsed": true
   },
   "outputs": [],
   "source": [
    "import numpy as np\n",
    "\n",
    "import matplotlib.pyplot as plt\n",
    "from matplotlib.colors import ListedColormap\n",
    "%matplotlib inline\n",
    "\n",
    "import pandas as pd\n",
    "import seaborn as sns   # plus approprié en sciences des données"
   ]
  },
  {
   "cell_type": "code",
   "execution_count": 2,
   "metadata": {
    "collapsed": true
   },
   "outputs": [],
   "source": [
    "from sklearn import datasets, linear_model\n",
    "iris = datasets.load_iris()"
   ]
  },
  {
   "cell_type": "code",
   "execution_count": 3,
   "metadata": {
    "collapsed": false
   },
   "outputs": [],
   "source": [
    "from sklearn.naive_bayes import GaussianNB\n",
    "from sklearn.discriminant_analysis import LinearDiscriminantAnalysis\n",
    "from sklearn.discriminant_analysis import QuadraticDiscriminantAnalysis\n",
    "from sklearn.neighbors import KNeighborsClassifier\n",
    "from sklearn.tree import DecisionTreeClassifier\n",
    "from sklearn.metrics import accuracy_score\n",
    "from sklearn.model_selection import cross_val_predict\n",
    "from sklearn.model_selection import cross_val_score\n",
    "from sklearn import tree"
   ]
  },
  {
   "cell_type": "code",
   "execution_count": 4,
   "metadata": {
    "collapsed": true
   },
   "outputs": [],
   "source": [
    "names = [\"Naive Bayes\", \"LDA\", \"QDA\"]\n",
    "classifiers = [\n",
    "    GaussianNB(),\n",
    "    LinearDiscriminantAnalysis(),\n",
    "    QuadraticDiscriminantAnalysis()]"
   ]
  },
  {
   "cell_type": "markdown",
   "metadata": {},
   "source": [
    "### Importation du jeu de données "
   ]
  },
  {
   "cell_type": "code",
   "execution_count": 5,
   "metadata": {
    "collapsed": false
   },
   "outputs": [
    {
     "data": {
      "text/html": [
       "<div>\n",
       "<table border=\"1\" class=\"dataframe\">\n",
       "  <thead>\n",
       "    <tr style=\"text-align: right;\">\n",
       "      <th></th>\n",
       "      <th>y</th>\n",
       "      <th>x.1</th>\n",
       "      <th>x.2</th>\n",
       "      <th>x.3</th>\n",
       "      <th>x.4</th>\n",
       "      <th>x.5</th>\n",
       "      <th>x.6</th>\n",
       "      <th>x.7</th>\n",
       "      <th>x.8</th>\n",
       "      <th>x.9</th>\n",
       "      <th>x.10</th>\n",
       "    </tr>\n",
       "    <tr>\n",
       "      <th>row.names</th>\n",
       "      <th></th>\n",
       "      <th></th>\n",
       "      <th></th>\n",
       "      <th></th>\n",
       "      <th></th>\n",
       "      <th></th>\n",
       "      <th></th>\n",
       "      <th></th>\n",
       "      <th></th>\n",
       "      <th></th>\n",
       "      <th></th>\n",
       "    </tr>\n",
       "  </thead>\n",
       "  <tbody>\n",
       "    <tr>\n",
       "      <th>1</th>\n",
       "      <td>1</td>\n",
       "      <td>-3.639</td>\n",
       "      <td>0.418</td>\n",
       "      <td>-0.670</td>\n",
       "      <td>1.779</td>\n",
       "      <td>-0.168</td>\n",
       "      <td>1.627</td>\n",
       "      <td>-0.388</td>\n",
       "      <td>0.529</td>\n",
       "      <td>-0.874</td>\n",
       "      <td>-0.814</td>\n",
       "    </tr>\n",
       "    <tr>\n",
       "      <th>2</th>\n",
       "      <td>2</td>\n",
       "      <td>-3.327</td>\n",
       "      <td>0.496</td>\n",
       "      <td>-0.694</td>\n",
       "      <td>1.365</td>\n",
       "      <td>-0.265</td>\n",
       "      <td>1.933</td>\n",
       "      <td>-0.363</td>\n",
       "      <td>0.510</td>\n",
       "      <td>-0.621</td>\n",
       "      <td>-0.488</td>\n",
       "    </tr>\n",
       "    <tr>\n",
       "      <th>3</th>\n",
       "      <td>3</td>\n",
       "      <td>-2.120</td>\n",
       "      <td>0.894</td>\n",
       "      <td>-1.576</td>\n",
       "      <td>0.147</td>\n",
       "      <td>-0.707</td>\n",
       "      <td>1.559</td>\n",
       "      <td>-0.579</td>\n",
       "      <td>0.676</td>\n",
       "      <td>-0.809</td>\n",
       "      <td>-0.049</td>\n",
       "    </tr>\n",
       "    <tr>\n",
       "      <th>4</th>\n",
       "      <td>4</td>\n",
       "      <td>-2.287</td>\n",
       "      <td>1.809</td>\n",
       "      <td>-1.498</td>\n",
       "      <td>1.012</td>\n",
       "      <td>-1.053</td>\n",
       "      <td>1.060</td>\n",
       "      <td>-0.567</td>\n",
       "      <td>0.235</td>\n",
       "      <td>-0.091</td>\n",
       "      <td>-0.795</td>\n",
       "    </tr>\n",
       "    <tr>\n",
       "      <th>5</th>\n",
       "      <td>5</td>\n",
       "      <td>-2.598</td>\n",
       "      <td>1.938</td>\n",
       "      <td>-0.846</td>\n",
       "      <td>1.062</td>\n",
       "      <td>-1.633</td>\n",
       "      <td>0.764</td>\n",
       "      <td>0.394</td>\n",
       "      <td>-0.150</td>\n",
       "      <td>0.277</td>\n",
       "      <td>-0.396</td>\n",
       "    </tr>\n",
       "  </tbody>\n",
       "</table>\n",
       "</div>"
      ],
      "text/plain": [
       "           y    x.1    x.2    x.3    x.4    x.5    x.6    x.7    x.8    x.9  \\\n",
       "row.names                                                                     \n",
       "1          1 -3.639  0.418 -0.670  1.779 -0.168  1.627 -0.388  0.529 -0.874   \n",
       "2          2 -3.327  0.496 -0.694  1.365 -0.265  1.933 -0.363  0.510 -0.621   \n",
       "3          3 -2.120  0.894 -1.576  0.147 -0.707  1.559 -0.579  0.676 -0.809   \n",
       "4          4 -2.287  1.809 -1.498  1.012 -1.053  1.060 -0.567  0.235 -0.091   \n",
       "5          5 -2.598  1.938 -0.846  1.062 -1.633  0.764  0.394 -0.150  0.277   \n",
       "\n",
       "            x.10  \n",
       "row.names         \n",
       "1         -0.814  \n",
       "2         -0.488  \n",
       "3         -0.049  \n",
       "4         -0.795  \n",
       "5         -0.396  "
      ]
     },
     "execution_count": 5,
     "metadata": {},
     "output_type": "execute_result"
    }
   ],
   "source": [
    "train=pd.read_csv('vowel.train.csv', sep=',', index_col=0)\n",
    "train.head()"
   ]
  },
  {
   "cell_type": "code",
   "execution_count": 6,
   "metadata": {
    "collapsed": false
   },
   "outputs": [
    {
     "data": {
      "text/html": [
       "<div>\n",
       "<table border=\"1\" class=\"dataframe\">\n",
       "  <thead>\n",
       "    <tr style=\"text-align: right;\">\n",
       "      <th></th>\n",
       "      <th>y</th>\n",
       "      <th>x.1</th>\n",
       "      <th>x.2</th>\n",
       "      <th>x.3</th>\n",
       "      <th>x.4</th>\n",
       "      <th>x.5</th>\n",
       "      <th>x.6</th>\n",
       "      <th>x.7</th>\n",
       "      <th>x.8</th>\n",
       "      <th>x.9</th>\n",
       "      <th>x.10</th>\n",
       "    </tr>\n",
       "    <tr>\n",
       "      <th>row.names</th>\n",
       "      <th></th>\n",
       "      <th></th>\n",
       "      <th></th>\n",
       "      <th></th>\n",
       "      <th></th>\n",
       "      <th></th>\n",
       "      <th></th>\n",
       "      <th></th>\n",
       "      <th></th>\n",
       "      <th></th>\n",
       "      <th></th>\n",
       "    </tr>\n",
       "  </thead>\n",
       "  <tbody>\n",
       "    <tr>\n",
       "      <th>1</th>\n",
       "      <td>1</td>\n",
       "      <td>-1.149</td>\n",
       "      <td>-0.904</td>\n",
       "      <td>-1.988</td>\n",
       "      <td>0.739</td>\n",
       "      <td>-0.060</td>\n",
       "      <td>1.206</td>\n",
       "      <td>0.864</td>\n",
       "      <td>1.196</td>\n",
       "      <td>-0.300</td>\n",
       "      <td>-0.467</td>\n",
       "    </tr>\n",
       "    <tr>\n",
       "      <th>2</th>\n",
       "      <td>2</td>\n",
       "      <td>-2.613</td>\n",
       "      <td>-0.092</td>\n",
       "      <td>-0.540</td>\n",
       "      <td>0.484</td>\n",
       "      <td>0.389</td>\n",
       "      <td>1.741</td>\n",
       "      <td>0.198</td>\n",
       "      <td>0.257</td>\n",
       "      <td>-0.375</td>\n",
       "      <td>-0.604</td>\n",
       "    </tr>\n",
       "    <tr>\n",
       "      <th>3</th>\n",
       "      <td>3</td>\n",
       "      <td>-2.505</td>\n",
       "      <td>0.632</td>\n",
       "      <td>-0.593</td>\n",
       "      <td>0.304</td>\n",
       "      <td>0.496</td>\n",
       "      <td>0.824</td>\n",
       "      <td>-0.162</td>\n",
       "      <td>0.181</td>\n",
       "      <td>-0.363</td>\n",
       "      <td>-0.764</td>\n",
       "    </tr>\n",
       "    <tr>\n",
       "      <th>4</th>\n",
       "      <td>4</td>\n",
       "      <td>-1.768</td>\n",
       "      <td>1.769</td>\n",
       "      <td>-1.142</td>\n",
       "      <td>-0.739</td>\n",
       "      <td>-0.086</td>\n",
       "      <td>0.120</td>\n",
       "      <td>-0.230</td>\n",
       "      <td>0.217</td>\n",
       "      <td>-0.009</td>\n",
       "      <td>-0.279</td>\n",
       "    </tr>\n",
       "    <tr>\n",
       "      <th>5</th>\n",
       "      <td>5</td>\n",
       "      <td>-2.671</td>\n",
       "      <td>3.155</td>\n",
       "      <td>-0.514</td>\n",
       "      <td>0.133</td>\n",
       "      <td>-0.964</td>\n",
       "      <td>0.234</td>\n",
       "      <td>-0.071</td>\n",
       "      <td>1.192</td>\n",
       "      <td>0.254</td>\n",
       "      <td>-0.471</td>\n",
       "    </tr>\n",
       "  </tbody>\n",
       "</table>\n",
       "</div>"
      ],
      "text/plain": [
       "           y    x.1    x.2    x.3    x.4    x.5    x.6    x.7    x.8    x.9  \\\n",
       "row.names                                                                     \n",
       "1          1 -1.149 -0.904 -1.988  0.739 -0.060  1.206  0.864  1.196 -0.300   \n",
       "2          2 -2.613 -0.092 -0.540  0.484  0.389  1.741  0.198  0.257 -0.375   \n",
       "3          3 -2.505  0.632 -0.593  0.304  0.496  0.824 -0.162  0.181 -0.363   \n",
       "4          4 -1.768  1.769 -1.142 -0.739 -0.086  0.120 -0.230  0.217 -0.009   \n",
       "5          5 -2.671  3.155 -0.514  0.133 -0.964  0.234 -0.071  1.192  0.254   \n",
       "\n",
       "            x.10  \n",
       "row.names         \n",
       "1         -0.467  \n",
       "2         -0.604  \n",
       "3         -0.764  \n",
       "4         -0.279  \n",
       "5         -0.471  "
      ]
     },
     "execution_count": 6,
     "metadata": {},
     "output_type": "execute_result"
    }
   ],
   "source": [
    "test=pd.read_csv('vowel.test.csv', sep=',', index_col=0)\n",
    "test.head()"
   ]
  },
  {
   "cell_type": "code",
   "execution_count": 7,
   "metadata": {
    "collapsed": false
   },
   "outputs": [
    {
     "name": "stdout",
     "output_type": "stream",
     "text": [
      "(528, 11)\n",
      "(462, 11)\n"
     ]
    }
   ],
   "source": [
    "print(train.shape)\n",
    "print(test.shape)"
   ]
  },
  {
   "cell_type": "markdown",
   "metadata": {},
   "source": [
    "#### C'est un problème multi-classes avec 11 classes. On verifie si le nombre d'observations par classe est bien équilibrée."
   ]
  },
  {
   "cell_type": "code",
   "execution_count": 8,
   "metadata": {
    "collapsed": false
   },
   "outputs": [
    {
     "data": {
      "text/plain": [
       "<matplotlib.axes._subplots.AxesSubplot at 0x10fad1128>"
      ]
     },
     "execution_count": 8,
     "metadata": {},
     "output_type": "execute_result"
    },
    {
     "data": {
      "image/png": "[encoded data removed]",
      "text/plain": [
       "<matplotlib.figure.Figure at 0x10fa21fd0>"
      ]
     },
     "metadata": {},
     "output_type": "display_data"
    }
   ],
   "source": [
    "sns.barplot(np.unique(train[\"y\"]),train.groupby(\"y\").count().values[:,0])"
   ]
  },
  {
   "cell_type": "code",
   "execution_count": 9,
   "metadata": {
    "collapsed": false
   },
   "outputs": [
    {
     "data": {
      "text/plain": [
       "<matplotlib.axes._subplots.AxesSubplot at 0x10fddc898>"
      ]
     },
     "execution_count": 9,
     "metadata": {},
     "output_type": "execute_result"
    },
    {
     "data": {
      "image/png": "[encoded data removed]",
      "text/plain": [
       "<matplotlib.figure.Figure at 0x10fdc0e10>"
      ]
     },
     "metadata": {},
     "output_type": "display_data"
    }
   ],
   "source": [
    "sns.barplot(np.unique(test[\"y\"]),test.groupby(\"y\").count().values[:,0])"
   ]
  },
  {
   "cell_type": "markdown",
   "metadata": {},
   "source": [
    "#### Les classes sont bien équlibrées sur le train et le test"
   ]
  },
  {
   "cell_type": "code",
   "execution_count": 10,
   "metadata": {
    "collapsed": false
   },
   "outputs": [
    {
     "data": {
      "text/plain": [
       "array([[  1.   ,  -3.639,   0.418, ...,   0.529,  -0.874,  -0.814],\n",
       "       [  2.   ,  -3.327,   0.496, ...,   0.51 ,  -0.621,  -0.488],\n",
       "       [  3.   ,  -2.12 ,   0.894, ...,   0.676,  -0.809,  -0.049],\n",
       "       ..., \n",
       "       [  9.   ,  -4.651,   4.246, ...,   0.094,  -1.343,   0.185],\n",
       "       [ 10.   ,  -5.034,   4.993, ...,  -0.508,  -0.283,   0.304],\n",
       "       [ 11.   ,  -4.261,   1.827, ...,   0.05 ,  -0.112,   0.321]])"
      ]
     },
     "execution_count": 10,
     "metadata": {},
     "output_type": "execute_result"
    }
   ],
   "source": [
    "train.values # matrice des valeurs"
   ]
  },
  {
   "cell_type": "markdown",
   "metadata": {},
   "source": [
    "#### On définit les matrices et les vecteurs d'entrainement et de test"
   ]
  },
  {
   "cell_type": "code",
   "execution_count": 11,
   "metadata": {
    "collapsed": false
   },
   "outputs": [
    {
     "name": "stdout",
     "output_type": "stream",
     "text": [
      "(528, 10)\n"
     ]
    }
   ],
   "source": [
    "y_train = train.values[:,0]\n",
    "x_train = train.values[:,1:]\n",
    "print(x_train.shape)"
   ]
  },
  {
   "cell_type": "code",
   "execution_count": 12,
   "metadata": {
    "collapsed": false
   },
   "outputs": [
    {
     "name": "stdout",
     "output_type": "stream",
     "text": [
      "(462, 10)\n"
     ]
    }
   ],
   "source": [
    "y_test = test.values[:,0]\n",
    "x_test = test.values[:,1:]\n",
    "print(x_test.shape)"
   ]
  },
  {
   "cell_type": "markdown",
   "metadata": {},
   "source": [
    "# Machine Learning"
   ]
  },
  {
   "cell_type": "markdown",
   "metadata": {},
   "source": [
    "#### Nous allons dans ce TP comparer plusieurs classifieurs connus en fonction de la métrique score de précision,  puis nous appliquerons la méthode de la cross-validation afin d'avoir un point de vu différent et sans doute plus précis de nos résultats. Nous distinguerons la notion de sur et sous apprentissage ainsi que leur conséquences."
   ]
  },
  {
   "cell_type": "markdown",
   "metadata": {},
   "source": [
    "<img src=\"https://media1.giphy.com/media/LNXivXzMwd7W0/giphy.gif\" width = 300>\n",
    "<a id=\"3\"></a> "
   ]
  },
  {
   "cell_type": "markdown",
   "metadata": {},
   "source": [
    "## 1. Naive Bayes"
   ]
  },
  {
   "cell_type": "code",
   "execution_count": 13,
   "metadata": {
    "collapsed": false
   },
   "outputs": [],
   "source": [
    "NB = GaussianNB()\n",
    "NB_fit = NB.fit(X=x_train,y=y_train)  # X maj obligé"
   ]
  },
  {
   "cell_type": "code",
   "execution_count": 14,
   "metadata": {
    "collapsed": false
   },
   "outputs": [
    {
     "name": "stdout",
     "output_type": "stream",
     "text": [
      "le score sur le train est 0.720\n",
      "le score sur le test est 0.461\n"
     ]
    }
   ],
   "source": [
    "print(\"le score sur le train est\", (\"%.3f\" % accuracy_score(NB_fit.predict(x_train),y_train)))\n",
    "print(\"le score sur le test est\", (\"%.3f\" % accuracy_score(NB_fit.predict(x_test),y_test)))"
   ]
  },
  {
   "cell_type": "markdown",
   "metadata": {},
   "source": [
    "#### Le score est plutôt correct on part de 500 données avec les 11 voyelles c'est pas mal. Naive Bayes est rapide mais pas forcement précis. On note une précision de 72% sur les données d'entrainement ce qui est normal car l'algorithme est basé sur le jeu train. La précision sur le jeu test est interressant car il permet de juger l'algorithme sur des données nouvelles, le score est 46%."
   ]
  },
  {
   "cell_type": "markdown",
   "metadata": {},
   "source": [
    "## 2. LDA"
   ]
  },
  {
   "cell_type": "code",
   "execution_count": 15,
   "metadata": {
    "collapsed": true
   },
   "outputs": [],
   "source": [
    "LDA = LinearDiscriminantAnalysis()\n",
    "LDA_fit = LDA.fit(X=x_train,y=y_train)  "
   ]
  },
  {
   "cell_type": "code",
   "execution_count": 16,
   "metadata": {
    "collapsed": false
   },
   "outputs": [
    {
     "name": "stdout",
     "output_type": "stream",
     "text": [
      "le score sur le train est 0.684\n",
      "le score sur le test est 0.444\n"
     ]
    }
   ],
   "source": [
    "print(\"le score sur le train est\", (\"%.3f\" % accuracy_score(LDA_fit.predict(x_train),y_train)))\n",
    "print(\"le score sur le test est\", (\"%.3f\" % accuracy_score(LDA_fit.predict(x_test),y_test)))"
   ]
  },
  {
   "cell_type": "markdown",
   "metadata": {},
   "source": [
    "#### La précision sur le LDA est légerement inférieure à celle du Naive Bayes. On note une précision de 68% sur les données d'entrainement et de 44% sur le jeu test. On préfère conserver le Naive Bayes."
   ]
  },
  {
   "cell_type": "markdown",
   "metadata": {},
   "source": [
    "## 3. QDA"
   ]
  },
  {
   "cell_type": "code",
   "execution_count": 17,
   "metadata": {
    "collapsed": true
   },
   "outputs": [],
   "source": [
    "QDA = QuadraticDiscriminantAnalysis()\n",
    "QDA_fit = QDA.fit(X=x_train,y=y_train) "
   ]
  },
  {
   "cell_type": "code",
   "execution_count": 18,
   "metadata": {
    "collapsed": false
   },
   "outputs": [
    {
     "name": "stdout",
     "output_type": "stream",
     "text": [
      "le score sur le train est 0.989\n",
      "le score sur le test est 0.472\n"
     ]
    }
   ],
   "source": [
    "print(\"le score sur le train est\", (\"%.3f\" % accuracy_score(QDA_fit.predict(x_train),y_train)))\n",
    "print(\"le score sur le test est\", (\"%.3f\" % accuracy_score(QDA_fit.predict(x_test),y_test)))"
   ]
  },
  {
   "cell_type": "markdown",
   "metadata": {},
   "source": [
    "#### La précision sur le QDA est nettement supérieure à celle du Naive Bayes. On note une précision de 98% sur les données d'entrainement et de 47% sur le jeu test. Le QDA est le plus interressant des algorithmes."
   ]
  },
  {
   "cell_type": "markdown",
   "metadata": {},
   "source": [
    "#### Nous avons établi des comparaisons entre les précisions de prediction sur des données d'entrainement ainsi que des données test, entre les 3 classifieurs Naive Bayes, LDA et QDA. Nous pouvons conclure que le classifieur QDA est le plusprécis sur des nouvelles données à la vue des résultats 47% de précision. la précision de prédiction est un des paramètres comunément utilisé pour la comparaison de la qualité des classifieurs. Nous verrons plus tard une methode de comparaison à laquelle nous pouvons aussi nous fier."
   ]
  },
  {
   "cell_type": "markdown",
   "metadata": {},
   "source": [
    "## 4. K-NN"
   ]
  },
  {
   "cell_type": "code",
   "execution_count": 19,
   "metadata": {
    "collapsed": false
   },
   "outputs": [],
   "source": [
    "acc_train =[]\n",
    "acc_test = []\n",
    "for k in np.arange(1,50):\n",
    "    knn= KNeighborsClassifier(n_neighbors =k)\n",
    "    knn_fit= knn.fit(X=x_train,y=y_train)\n",
    "    acc_train.append(accuracy_score(knn_fit.predict(x_train),y_train))\n",
    "    acc_test.append(accuracy_score(knn_fit.predict(x_test),y_test))"
   ]
  },
  {
   "cell_type": "code",
   "execution_count": 20,
   "metadata": {
    "collapsed": false
   },
   "outputs": [
    {
     "name": "stdout",
     "output_type": "stream",
     "text": [
      "les scores : train 0.977 / test 0.608\n",
      "le nombre idéal de 'voisins' pour une bonne précision du K-NN est de 6\n"
     ]
    }
   ],
   "source": [
    "k_hat = np.argmax(acc_test)\n",
    "print(\"les scores : train\", (\"%.3f\" % acc_train[k_hat]), \"/ test\", (\"%.3f\" % acc_test[k_hat]))\n",
    "print(\"le nombre idéal de 'voisins' pour une bonne précision du K-NN est de\",k_hat+1) "
   ]
  },
  {
   "cell_type": "markdown",
   "metadata": {},
   "source": [
    "#### K_hat est le nombre de plus proches voisins pour lequel la précision de prédiction pour le jeu test est maximale. Ici k_hat correspond à la 5ème position dans le tableau donc on retourne k_hat + 1 pour avoir la veritable valeur de k qui est 6."
   ]
  },
  {
   "cell_type": "code",
   "execution_count": 21,
   "metadata": {
    "collapsed": false
   },
   "outputs": [
    {
     "data": {
      "text/plain": [
       "<matplotlib.legend.Legend at 0x113be43c8>"
      ]
     },
     "execution_count": 21,
     "metadata": {},
     "output_type": "execute_result"
    },
    {
     "data": {
      "image/png": "[encoded data removed]",
      "text/plain": [
       "<matplotlib.figure.Figure at 0x10f916ef0>"
      ]
     },
     "metadata": {},
     "output_type": "display_data"
    }
   ],
   "source": [
    "plt.plot(np.arange(1,50),acc_train, label= \"Accuracy on train\") # on sur apprend fonction trop compliquée\n",
    "plt.plot(np.arange(1,50),acc_test, label= \"Accuracy on test\") # on sous apprend car zones de decisions \n",
    "# constantes meilleur K-NN\n",
    "plt.axvline(np.arange(1,50)[k_hat], label= \"best k on knn\")\n",
    "plt.axvline()\n",
    "plt.legend()"
   ]
  },
  {
   "cell_type": "markdown",
   "metadata": {
    "collapsed": true
   },
   "source": [
    "#### Nous avons tracé les précisions sur le jeu d'entrainement et de test en fonction de la valeur k allant de 1 à 50 sur l'algorithme des plus proches voisins. Nous remarquons d'un point de vu gobal sur cet intervalle de k que les précisions diminuent lorsque le nombre de voisins considérés augmente. \n",
    "#### On note que la précision sur le jeu de données train est toujours supérieure à celle du test, mais semble converger vers celle du test lorsque k est très grand.\n",
    "#### Lorsque k est très petit, on considère que l'on sur-apprend sur le jeu de données et la fonction du classifieur devient trop compliquée, tendis que si k est très grand on sous-apprend sur le jeu de données car les zones de décision deviennent constantes."
   ]
  },
  {
   "cell_type": "markdown",
   "metadata": {},
   "source": [
    "## 5. Cross-Validation sur K-NN"
   ]
  },
  {
   "cell_type": "code",
   "execution_count": 22,
   "metadata": {
    "collapsed": false
   },
   "outputs": [
    {
     "name": "stdout",
     "output_type": "stream",
     "text": [
      "les précisions des 5 cross-validations sur le jeu d'entrainement sont \n",
      " [ 0.59090909  0.66363636  0.72727273  0.5959596   0.50505051]\n",
      "La moyenne de précision sur les 5 cross-validations sur le jeu d'entrainement est de 0.617\n"
     ]
    }
   ],
   "source": [
    "knn_cv = KNeighborsClassifier(n_neighbors=5)\n",
    "score_cv_train = cross_val_score(knn_cv, x_train, y_train, cv=5)\n",
    "print(\"les précisions des 5 cross-validations sur le jeu d'entrainement sont \\n\",score_cv_train)\n",
    "print(\"La moyenne de précision sur les 5 cross-validations sur le jeu d'entrainement est de\",(\"%.3f\" % score_cv_train.mean()))"
   ]
  },
  {
   "cell_type": "markdown",
   "metadata": {},
   "source": [
    "#### Nous retrouvons une précision similaire à celle trouvée pour le k-NN (60%) mais sans la partie l'aléa dû au choix arbitraire des données d'entrainement, ici 61% de précison.\n",
    "#### Traçons la courbe des précisions en fonction de k, avec 5 cross-validations. "
   ]
  },
  {
   "cell_type": "code",
   "execution_count": 40,
   "metadata": {
    "collapsed": false
   },
   "outputs": [
    {
     "name": "stdout",
     "output_type": "stream",
     "text": [
      "1\n",
      "2\n",
      "3\n",
      "La valeur maximale de précision sur les 50 cross-validations est de 68.525\n"
     ]
    },
    {
     "data": {
      "text/plain": [
       "<matplotlib.legend.Legend at 0x114b6ba20>"
      ]
     },
     "execution_count": 40,
     "metadata": {},
     "output_type": "execute_result"
    },
    {
     "data": {
      "image/png": "[encoded data removed]",
      "text/plain": [
       "<matplotlib.figure.Figure at 0x114e6dfd0>"
      ]
     },
     "metadata": {},
     "output_type": "display_data"
    }
   ],
   "source": [
    "F=[]\n",
    "G=[]\n",
    "E=[]\n",
    "for k in np.arange(1,50):\n",
    "    knn_cv = KNeighborsClassifier(n_neighbors=k)\n",
    "    score_cv_train = cross_val_score(knn_cv, x_train, y_train, cv=5)\n",
    "    score_cv_train_ = cross_val_score(knn_cv, x_train, y_train, cv=40)\n",
    "    E.append(score_cv_train.mean()*100)\n",
    "    F.append((1-score_cv_train.mean())*100)\n",
    "    G.append((1-score_cv_train_.mean())*100)\n",
    "    if score_cv_train.mean()>0.65 :\n",
    "        print(k)\n",
    "print(\"La valeur maximale de précision sur les 50 cross-validations est de\",(\"%.3f\" % max(E)))\n",
    "plt.plot(np.arange(1,50),E, label= \"Accuracy mean for cv=5\")\n",
    "plt.plot(np.arange(1,50),F,label= \"Error percentage for cv=5\")\n",
    "plt.plot(np.arange(1,50),F,label= \"Error percentage for cv=40\")\n",
    "plt.axvline(np.arange(1,50)[k_hat], label= \"best k on knn\")\n",
    "plt.axvline()\n",
    "plt.legend()\n",
    "#print(E) # affichage du tableau contenat les 50 moyennes des précisions"
   ]
  },
  {
   "cell_type": "markdown",
   "metadata": {},
   "source": [
    "#### Nous choisissons la valeur k=5 pour effectuer la cross-validation sur la méthode des plus proches voisins car nous avons vu précédement que c'était la valeur optimale pour le K-NN, les valeurs pour k en dessous de 5 sont faussées car il y a sur-apprentissage et pour les valeurs trop grandes (aux alentour de 50) il y a sous-apprentissage.\n",
    "#### On remarque bien que la précision moyenne suite à la cross-validation sur les données train et test diminuent lorsque l'on augmente le k aux alentours d'une valeur de 20 par exemple, car la précision diminue pour k>5.\n",
    "#### Nous effectuons donc la cross-validation en divisant notre ensemble de données en 5 groupes. Nous établissons donc 5 jeux de données train différents puis les 5 précisions de prédictions sur les données train nous sont données suite à l'apprentissage par l'algorithme K-NN. Nous en calculons une moyenne qui est de 61%, ce qui est inférieur aux 97% détéctés sans cross-validation, on peut d'avantage s'y fier car la cross-validation apporte une plus grande validité des calculs étant donné les 5 différents points de vus étudiés.\n",
    "#### Nous reproduisons le même schéma sur pour k allant de 1 à 50. Nous pouvons aussi tracer la courbe des pourcentages  d'erreurs en fonction des k lors des cross-validations."
   ]
  },
  {
   "cell_type": "markdown",
   "metadata": {},
   "source": [
    "#### Symétriquement, le pourcentage d'erreur augmente en fonction du choix du nombre de plus proches voisins et ce quelque soit le nombre de cross-validation."
   ]
  },
  {
   "cell_type": "markdown",
   "metadata": {},
   "source": [
    "## 6. Adaptation de cette méthode aux algorithmes Naive Bayes, LDA et QDA \n",
    "### a. Naive Bayes"
   ]
  },
  {
   "cell_type": "code",
   "execution_count": 25,
   "metadata": {
    "collapsed": false
   },
   "outputs": [
    {
     "name": "stdout",
     "output_type": "stream",
     "text": [
      "les précisions des 5 cross-validations sont \n",
      " [ 0.53636364  0.66363636  0.52727273  0.60606061  0.27272727]\n",
      "La moyenne de précision des 5 cross-validations sur le Naive Bayes est de 0.521\n"
     ]
    }
   ],
   "source": [
    "NB_cv = GaussianNB()\n",
    "score_cv_train = cross_val_score(NB_cv, x_train, y_train, cv=5)\n",
    "print(\"les précisions des 5 cross-validations sont \\n\",score_cv_train)\n",
    "print(\"La moyenne de précision des 5 cross-validations sur le Naive Bayes est de\",(\"%.3f\" % score_cv_train.mean()))"
   ]
  },
  {
   "cell_type": "markdown",
   "metadata": {},
   "source": [
    "### b. LDA"
   ]
  },
  {
   "cell_type": "code",
   "execution_count": 26,
   "metadata": {
    "collapsed": false
   },
   "outputs": [
    {
     "name": "stdout",
     "output_type": "stream",
     "text": [
      "les précisions des 5 cross-validations sont \n",
      " [ 0.52727273  0.35454545  0.59090909  0.63636364  0.2020202 ]\n",
      "La moyenne de précision des 5 cross-validations sur la LDA est de 0.462\n"
     ]
    }
   ],
   "source": [
    "LDA_cv = LinearDiscriminantAnalysis()\n",
    "score_cv_train = cross_val_score(LDA_cv, x_train, y_train, cv=5)\n",
    "print(\"les précisions des 5 cross-validations sont \\n\",score_cv_train)\n",
    "print(\"La moyenne de précision des 5 cross-validations sur la LDA est de\",(\"%.3f\" % score_cv_train.mean()))"
   ]
  },
  {
   "cell_type": "markdown",
   "metadata": {},
   "source": [
    "### c. QDA"
   ]
  },
  {
   "cell_type": "code",
   "execution_count": 27,
   "metadata": {
    "collapsed": false
   },
   "outputs": [
    {
     "name": "stdout",
     "output_type": "stream",
     "text": [
      "les précisions des 5 cross-validations sont \n",
      " [ 0.52727273  0.52727273  0.64545455  0.62626263  0.36363636]\n",
      "La moyenne de précision des 5 cross-validations sur le QDA est de 0.538\n"
     ]
    }
   ],
   "source": [
    "QDA_cv = QuadraticDiscriminantAnalysis()\n",
    "score_cv_train = cross_val_score(QDA_cv, x_train, y_train, cv=5)\n",
    "print(\"les précisions des 5 cross-validations sont \\n\",score_cv_train)\n",
    "print(\"La moyenne de précision des 5 cross-validations sur le QDA est de\",(\"%.3f\" % score_cv_train.mean()))"
   ]
  },
  {
   "cell_type": "markdown",
   "metadata": {},
   "source": [
    "## Concusion"
   ]
  },
  {
   "cell_type": "markdown",
   "metadata": {},
   "source": [
    "#### Nous remarquons que la méthode cross-validation permet d'obtenir une plus grande fiabilité sur nos résultats car cette dernière étudie plusieurs points de vus. De plus, on remarque que les précisions de prédiction restent supérieures à celles des classifieurs sans cross validation ce qui veut dire que notre algorithme est capable avec une plus grande abilité, de s'adapter à de nouvelles données et proposer une réponse qui suit avec une plus ou moins grande précision la loi décrite par nos données d'apprentissage.\n",
    "#### On peut aussi affirmer suite aux observations que le K-NN reste, suite à la cross-validation, de modèle de référence avec comme paramètre 6 voisins les plus proches car sa précision de prédiction est de 61% sur des données test, suivi de près par le QDA (53%) et par le Naive Bayes (52%). Enfin le LDA reste quand même legèrement moins performant avec un score de 46% d'accuracy."
   ]
  },
  {
   "cell_type": "markdown",
   "metadata": {
    "collapsed": true
   },
   "source": [
    "## Arbres de décision"
   ]
  },
  {
   "cell_type": "code",
   "execution_count": 28,
   "metadata": {
    "collapsed": false
   },
   "outputs": [
    {
     "name": "stdout",
     "output_type": "stream",
     "text": [
      "La précision de prédiction sur le jeu d'entrainement est  1.000\n",
      "La précision sur le sur le jeu test est  0.442\n"
     ]
    }
   ],
   "source": [
    "arbre = DecisionTreeClassifier()\n",
    "arbre_fit = arbre.fit(X=x_train,y=y_train)\n",
    "print(\"La précision de prédiction sur le jeu d'entrainement est \", (\"%.3f\" %accuracy_score(arbre_fit.predict(x_train), y_train)))\n",
    "print(\"La précision sur le sur le jeu test est \" , (\"%.3f\" %accuracy_score(arbre_fit.predict(x_test), y_test)))"
   ]
  },
  {
   "cell_type": "code",
   "execution_count": 29,
   "metadata": {
    "collapsed": false
   },
   "outputs": [
    {
     "name": "stdout",
     "output_type": "stream",
     "text": [
      "les précisions des 5 cross-validations sont \n",
      " [ 0.49090909  0.66363636  0.45454545  0.50505051  0.35353535]\n",
      "La moyenne de précision des 5 cross-validations sur le classifieur arbre est de 0.494\n"
     ]
    }
   ],
   "source": [
    "arbre_cv = DecisionTreeClassifier()\n",
    "score_cv_train = cross_val_score(arbre_cv, x_train, y_train, cv=5)\n",
    "print(\"les précisions des 5 cross-validations sont \\n\",score_cv_train)\n",
    "print(\"La moyenne de précision des 5 cross-validations sur le classifieur arbre est de\",(\"%.3f\" % score_cv_train.mean()))"
   ]
  },
  {
   "cell_type": "markdown",
   "metadata": {},
   "source": [
    "#### On remarque une précision plus faible lorsque l'on propose des nouvelles données au classifeur arbre comparé aux algorithmes prédédents. L'algorithme semble avoir sur-appris les données train étant donnée une précision élevée 100% sur le train contre 42% sur le test et 49% en moyenne suite à la cross-validation."
   ]
  },
  {
   "cell_type": "code",
   "execution_count": 30,
   "metadata": {
    "collapsed": false
   },
   "outputs": [
    {
     "ename": "NameError",
     "evalue": "name 'knn_tree' is not defined",
     "output_type": "error",
     "traceback": [
      "\u001b[0;31m---------------------------------------------------------------------------\u001b[0m",
      "\u001b[0;31mNameError\u001b[0m                                 Traceback (most recent call last)",
      "\u001b[0;32m<ipython-input-30-bbdb09148e53>\u001b[0m in \u001b[0;36m<module>\u001b[0;34m()\u001b[0m\n\u001b[1;32m      1\u001b[0m \u001b[0;32mwith\u001b[0m \u001b[0mopen\u001b[0m\u001b[0;34m(\u001b[0m\u001b[0;34m\"knn_tree.dot\"\u001b[0m\u001b[0;34m,\u001b[0m \u001b[0;34m'w'\u001b[0m\u001b[0;34m)\u001b[0m \u001b[0;32mas\u001b[0m \u001b[0mf\u001b[0m\u001b[0;34m:\u001b[0m\u001b[0;34m\u001b[0m\u001b[0;34m\u001b[0m\u001b[0m\n\u001b[0;32m----> 2\u001b[0;31m     \u001b[0mf\u001b[0m \u001b[0;34m=\u001b[0m \u001b[0mtree\u001b[0m\u001b[0;34m.\u001b[0m\u001b[0mexport_graphviz\u001b[0m\u001b[0;34m(\u001b[0m\u001b[0mknn_tree\u001b[0m\u001b[0;34m,\u001b[0m \u001b[0mout_file\u001b[0m\u001b[0;34m=\u001b[0m\u001b[0mf\u001b[0m\u001b[0;34m)\u001b[0m\u001b[0;34m\u001b[0m\u001b[0;34m\u001b[0m\u001b[0m\n\u001b[0m",
      "\u001b[0;31mNameError\u001b[0m: name 'knn_tree' is not defined"
     ]
    }
   ],
   "source": [
    "with open(\"knn_tree.dot\", 'w') as f:\n",
    "    f = tree.export_graphviz(knn_tree, out_file=f)"
   ]
  },
  {
   "cell_type": "code",
   "execution_count": null,
   "metadata": {
    "collapsed": false
   },
   "outputs": [],
   "source": [
    "dot -Tpdf knn_tree.dot -o knn_tree.pdf"
   ]
  },
  {
   "cell_type": "code",
   "execution_count": null,
   "metadata": {
    "collapsed": false
   },
   "outputs": [],
   "source": [
    "import pydotplus\n",
    "dot_data = tree.export_graphviz(knn_tree, out_file=None,\n",
    "            feature_names=x_train_names,\n",
    "            class_names=y_train_names,\n",
    "            filled=True, rounded=True,\n",
    "            special_characters=True)\n",
    "graph = pydotplus.graph_from_dot_data(dot_data)\n",
    "graph.write_pdf(\"knn_tree.pdf\")"
   ]
  },
  {
   "cell_type": "code",
   "execution_count": null,
   "metadata": {
    "collapsed": true
   },
   "outputs": [],
   "source": []
  }
 ],
 "metadata": {
  "kernelspec": {
   "display_name": "Python 3",
   "language": "python",
   "name": "python3"
  },
  "language_info": {
   "codemirror_mode": {
    "name": "ipython",
    "version": 3
   },
   "file_extension": ".py",
   "mimetype": "text/x-python",
   "name": "python",
   "nbconvert_exporter": "python",
   "pygments_lexer": "ipython3",
   "version": "3.6.7"
  }
 },
 "nbformat": 4,
 "nbformat_minor": 2
}
